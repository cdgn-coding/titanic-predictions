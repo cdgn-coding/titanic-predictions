{
 "cells": [
  {
   "cell_type": "markdown",
   "metadata": {},
   "source": [
    "# Enhancing model pipeline"
   ]
  },
  {
   "cell_type": "markdown",
   "metadata": {},
   "source": [
    "In the last model, we filled out missing ages and embarked values using the mean, we used the probability fact. Within this model, we are going to first approximate the missing values using SVM and the predict the survived value. In further models, we may try to use the columns name, cabin and ticket."
   ]
  },
  {
   "cell_type": "code",
   "execution_count": 264,
   "metadata": {},
   "outputs": [],
   "source": [
    "import pandas as pd\n",
    "from sklearn import svm, preprocessing\n",
    "import numpy as np\n",
    "import traceback"
   ]
  },
  {
   "cell_type": "code",
   "execution_count": 85,
   "metadata": {},
   "outputs": [],
   "source": [
    "sourceData = pd.read_csv(\\\n",
    "    '../data/train.csv',\\\n",
    "    index_col = 'PassengerId'\\\n",
    ")"
   ]
  },
  {
   "cell_type": "code",
   "execution_count": 242,
   "metadata": {},
   "outputs": [
    {
     "data": {
      "text/html": [
       "<div>\n",
       "<style scoped>\n",
       "    .dataframe tbody tr th:only-of-type {\n",
       "        vertical-align: middle;\n",
       "    }\n",
       "\n",
       "    .dataframe tbody tr th {\n",
       "        vertical-align: top;\n",
       "    }\n",
       "\n",
       "    .dataframe thead th {\n",
       "        text-align: right;\n",
       "    }\n",
       "</style>\n",
       "<table border=\"1\" class=\"dataframe\">\n",
       "  <thead>\n",
       "    <tr style=\"text-align: right;\">\n",
       "      <th></th>\n",
       "      <th>survived</th>\n",
       "      <th>dclass</th>\n",
       "      <th>sex</th>\n",
       "      <th>age</th>\n",
       "      <th>siblings</th>\n",
       "      <th>parch</th>\n",
       "      <th>fare</th>\n",
       "      <th>embarked</th>\n",
       "    </tr>\n",
       "    <tr>\n",
       "      <th>PassengerId</th>\n",
       "      <th></th>\n",
       "      <th></th>\n",
       "      <th></th>\n",
       "      <th></th>\n",
       "      <th></th>\n",
       "      <th></th>\n",
       "      <th></th>\n",
       "      <th></th>\n",
       "    </tr>\n",
       "  </thead>\n",
       "  <tbody>\n",
       "    <tr>\n",
       "      <th>1</th>\n",
       "      <td>0</td>\n",
       "      <td>3</td>\n",
       "      <td>1</td>\n",
       "      <td>22.0</td>\n",
       "      <td>1</td>\n",
       "      <td>0</td>\n",
       "      <td>7.2500</td>\n",
       "      <td>1.0</td>\n",
       "    </tr>\n",
       "    <tr>\n",
       "      <th>2</th>\n",
       "      <td>1</td>\n",
       "      <td>1</td>\n",
       "      <td>2</td>\n",
       "      <td>38.0</td>\n",
       "      <td>1</td>\n",
       "      <td>0</td>\n",
       "      <td>71.2833</td>\n",
       "      <td>2.0</td>\n",
       "    </tr>\n",
       "    <tr>\n",
       "      <th>3</th>\n",
       "      <td>1</td>\n",
       "      <td>3</td>\n",
       "      <td>2</td>\n",
       "      <td>26.0</td>\n",
       "      <td>0</td>\n",
       "      <td>0</td>\n",
       "      <td>7.9250</td>\n",
       "      <td>1.0</td>\n",
       "    </tr>\n",
       "    <tr>\n",
       "      <th>4</th>\n",
       "      <td>1</td>\n",
       "      <td>1</td>\n",
       "      <td>2</td>\n",
       "      <td>35.0</td>\n",
       "      <td>1</td>\n",
       "      <td>0</td>\n",
       "      <td>53.1000</td>\n",
       "      <td>1.0</td>\n",
       "    </tr>\n",
       "    <tr>\n",
       "      <th>5</th>\n",
       "      <td>0</td>\n",
       "      <td>3</td>\n",
       "      <td>1</td>\n",
       "      <td>35.0</td>\n",
       "      <td>0</td>\n",
       "      <td>0</td>\n",
       "      <td>8.0500</td>\n",
       "      <td>1.0</td>\n",
       "    </tr>\n",
       "  </tbody>\n",
       "</table>\n",
       "</div>"
      ],
      "text/plain": [
       "             survived  dclass  sex   age  siblings  parch     fare  embarked\n",
       "PassengerId                                                                 \n",
       "1                   0       3    1  22.0         1      0   7.2500       1.0\n",
       "2                   1       1    2  38.0         1      0  71.2833       2.0\n",
       "3                   1       3    2  26.0         0      0   7.9250       1.0\n",
       "4                   1       1    2  35.0         1      0  53.1000       1.0\n",
       "5                   0       3    1  35.0         0      0   8.0500       1.0"
      ]
     },
     "execution_count": 242,
     "metadata": {},
     "output_type": "execute_result"
    }
   ],
   "source": [
    "# Removes data that we won't use for this model and renames columns for handy programming\n",
    "def cleanData(data):\n",
    "    # Creates a copy of the dataset\n",
    "    dataset = data.copy()\n",
    "    \n",
    "    # Renames the columns to be lowecase\n",
    "    dataset.columns = [\n",
    "        'survived',\n",
    "        'dclass',\n",
    "        'name',\n",
    "        'sex',\n",
    "        'age',\n",
    "        'siblings',\n",
    "        'parch',\n",
    "        'ticket',\n",
    "        'fare',\n",
    "        'cabin',\n",
    "        'embarked'\n",
    "    ]\n",
    "    \n",
    "    dataset.replace({ 'embarked': { 'S': 1, 'C': 2, 'Q': 3 }}, inplace = True)\n",
    "    dataset.replace({ 'sex': { 'male': 1, 'female': 2 }}, inplace = True)\n",
    "    \n",
    "    return dataset.drop(columns = ['name', 'cabin', 'ticket'])\n",
    "\n",
    "cleanSourceData = cleanData(sourceData)\n",
    "cleanSourceData.head()"
   ]
  },
  {
   "cell_type": "code",
   "execution_count": 243,
   "metadata": {},
   "outputs": [],
   "source": [
    "def prepareDatasetForModel(dataset, predict_column):\n",
    "    records_id = dataset.index.values\n",
    "    X = dataset.drop(columns = [predict_column, 'survived']).values\n",
    "    y = dataset[predict_column].values\n",
    "    return (records_id, X, y)"
   ]
  },
  {
   "cell_type": "code",
   "execution_count": 244,
   "metadata": {},
   "outputs": [
    {
     "data": {
      "text/html": [
       "<div>\n",
       "<style scoped>\n",
       "    .dataframe tbody tr th:only-of-type {\n",
       "        vertical-align: middle;\n",
       "    }\n",
       "\n",
       "    .dataframe tbody tr th {\n",
       "        vertical-align: top;\n",
       "    }\n",
       "\n",
       "    .dataframe thead th {\n",
       "        text-align: right;\n",
       "    }\n",
       "</style>\n",
       "<table border=\"1\" class=\"dataframe\">\n",
       "  <thead>\n",
       "    <tr style=\"text-align: right;\">\n",
       "      <th></th>\n",
       "      <th>survived</th>\n",
       "      <th>dclass</th>\n",
       "      <th>sex</th>\n",
       "      <th>age</th>\n",
       "      <th>siblings</th>\n",
       "      <th>parch</th>\n",
       "      <th>fare</th>\n",
       "      <th>embarked</th>\n",
       "    </tr>\n",
       "    <tr>\n",
       "      <th>PassengerId</th>\n",
       "      <th></th>\n",
       "      <th></th>\n",
       "      <th></th>\n",
       "      <th></th>\n",
       "      <th></th>\n",
       "      <th></th>\n",
       "      <th></th>\n",
       "      <th></th>\n",
       "    </tr>\n",
       "  </thead>\n",
       "  <tbody>\n",
       "    <tr>\n",
       "      <th>1</th>\n",
       "      <td>0</td>\n",
       "      <td>3</td>\n",
       "      <td>1</td>\n",
       "      <td>22.0</td>\n",
       "      <td>1</td>\n",
       "      <td>0</td>\n",
       "      <td>7.2500</td>\n",
       "      <td>1.0</td>\n",
       "    </tr>\n",
       "    <tr>\n",
       "      <th>2</th>\n",
       "      <td>1</td>\n",
       "      <td>1</td>\n",
       "      <td>2</td>\n",
       "      <td>38.0</td>\n",
       "      <td>1</td>\n",
       "      <td>0</td>\n",
       "      <td>71.2833</td>\n",
       "      <td>2.0</td>\n",
       "    </tr>\n",
       "    <tr>\n",
       "      <th>3</th>\n",
       "      <td>1</td>\n",
       "      <td>3</td>\n",
       "      <td>2</td>\n",
       "      <td>26.0</td>\n",
       "      <td>0</td>\n",
       "      <td>0</td>\n",
       "      <td>7.9250</td>\n",
       "      <td>1.0</td>\n",
       "    </tr>\n",
       "    <tr>\n",
       "      <th>4</th>\n",
       "      <td>1</td>\n",
       "      <td>1</td>\n",
       "      <td>2</td>\n",
       "      <td>35.0</td>\n",
       "      <td>1</td>\n",
       "      <td>0</td>\n",
       "      <td>53.1000</td>\n",
       "      <td>1.0</td>\n",
       "    </tr>\n",
       "    <tr>\n",
       "      <th>5</th>\n",
       "      <td>0</td>\n",
       "      <td>3</td>\n",
       "      <td>1</td>\n",
       "      <td>35.0</td>\n",
       "      <td>0</td>\n",
       "      <td>0</td>\n",
       "      <td>8.0500</td>\n",
       "      <td>1.0</td>\n",
       "    </tr>\n",
       "  </tbody>\n",
       "</table>\n",
       "</div>"
      ],
      "text/plain": [
       "             survived  dclass  sex   age  siblings  parch     fare  embarked\n",
       "PassengerId                                                                 \n",
       "1                   0       3    1  22.0         1      0   7.2500       1.0\n",
       "2                   1       1    2  38.0         1      0  71.2833       2.0\n",
       "3                   1       3    2  26.0         0      0   7.9250       1.0\n",
       "4                   1       1    2  35.0         1      0  53.1000       1.0\n",
       "5                   0       3    1  35.0         0      0   8.0500       1.0"
      ]
     },
     "execution_count": 244,
     "metadata": {},
     "output_type": "execute_result"
    }
   ],
   "source": [
    "submodelData = cleanSourceData.dropna()\n",
    "submodelData.head()"
   ]
  },
  {
   "cell_type": "markdown",
   "metadata": {},
   "source": [
    "## Training the age predictor"
   ]
  },
  {
   "cell_type": "code",
   "execution_count": 312,
   "metadata": {},
   "outputs": [],
   "source": [
    "(records_with_id, age_model_records, age_fit) = prepareDatasetForModel(submodelData, 'age')"
   ]
  },
  {
   "cell_type": "code",
   "execution_count": 313,
   "metadata": {},
   "outputs": [
    {
     "data": {
      "text/plain": [
       "SVR(C=1, cache_size=200, coef0=0.0, degree=3, epsilon=0.1, gamma='scale',\n",
       "  kernel='poly', max_iter=-1, shrinking=True, tol=0.001, verbose=False)"
      ]
     },
     "execution_count": 313,
     "metadata": {},
     "output_type": "execute_result"
    }
   ],
   "source": [
    "age_predictor_svr = svm.SVR(gamma='scale', C = 1, kernel='poly')\n",
    "age_predictor_svr.fit(age_model_records, age_fit)"
   ]
  },
  {
   "cell_type": "markdown",
   "metadata": {},
   "source": [
    "## Training Fare predictor"
   ]
  },
  {
   "cell_type": "code",
   "execution_count": 247,
   "metadata": {},
   "outputs": [],
   "source": [
    "(_, fare_model_records, fare_fit) = prepareDatasetForModel(submodelData, 'fare')"
   ]
  },
  {
   "cell_type": "code",
   "execution_count": 314,
   "metadata": {},
   "outputs": [
    {
     "data": {
      "text/plain": [
       "SVR(C=1, cache_size=200, coef0=0.0, degree=3, epsilon=0.1, gamma='scale',\n",
       "  kernel='poly', max_iter=-1, shrinking=True, tol=0.001, verbose=False)"
      ]
     },
     "execution_count": 314,
     "metadata": {},
     "output_type": "execute_result"
    }
   ],
   "source": [
    "fare_predictor_svr = svm.SVR(gamma='scale', C = 1, kernel='poly')\n",
    "fare_predictor_svr.fit(fare_model_records, fare_fit)"
   ]
  },
  {
   "cell_type": "markdown",
   "metadata": {},
   "source": [
    "## Training Embarked port predictor"
   ]
  },
  {
   "cell_type": "code",
   "execution_count": 315,
   "metadata": {},
   "outputs": [],
   "source": [
    "(_, embarked_model_records, embarked_fit) = prepareDatasetForModel(submodelData, 'embarked')\n",
    "classified_embarked_fit = pd.Series(embarked_fit).astype(int).values"
   ]
  },
  {
   "cell_type": "code",
   "execution_count": 316,
   "metadata": {},
   "outputs": [
    {
     "data": {
      "text/plain": [
       "LinearSVC(C=1.0, class_weight=None, dual=True, fit_intercept=True,\n",
       "     intercept_scaling=1, loss='squared_hinge', max_iter=1000,\n",
       "     multi_class='ovr', penalty='l2', random_state=None, tol=0.0001,\n",
       "     verbose=0)"
      ]
     },
     "execution_count": 316,
     "metadata": {},
     "output_type": "execute_result"
    }
   ],
   "source": [
    "embarked_predictor_svc = svm.LinearSVC()\n",
    "embarked_predictor_svc.fit(fare_model_records, classified_embarked_fit)"
   ]
  },
  {
   "cell_type": "markdown",
   "metadata": {},
   "source": [
    "## Training the Survived predictor"
   ]
  },
  {
   "cell_type": "code",
   "execution_count": 317,
   "metadata": {},
   "outputs": [
    {
     "data": {
      "text/html": [
       "<div>\n",
       "<style scoped>\n",
       "    .dataframe tbody tr th:only-of-type {\n",
       "        vertical-align: middle;\n",
       "    }\n",
       "\n",
       "    .dataframe tbody tr th {\n",
       "        vertical-align: top;\n",
       "    }\n",
       "\n",
       "    .dataframe thead th {\n",
       "        text-align: right;\n",
       "    }\n",
       "</style>\n",
       "<table border=\"1\" class=\"dataframe\">\n",
       "  <thead>\n",
       "    <tr style=\"text-align: right;\">\n",
       "      <th></th>\n",
       "      <th>survived</th>\n",
       "      <th>dclass</th>\n",
       "      <th>sex</th>\n",
       "      <th>age</th>\n",
       "      <th>siblings</th>\n",
       "      <th>parch</th>\n",
       "      <th>fare</th>\n",
       "      <th>embarked</th>\n",
       "    </tr>\n",
       "    <tr>\n",
       "      <th>PassengerId</th>\n",
       "      <th></th>\n",
       "      <th></th>\n",
       "      <th></th>\n",
       "      <th></th>\n",
       "      <th></th>\n",
       "      <th></th>\n",
       "      <th></th>\n",
       "      <th></th>\n",
       "    </tr>\n",
       "  </thead>\n",
       "  <tbody>\n",
       "    <tr>\n",
       "      <th>1</th>\n",
       "      <td>0</td>\n",
       "      <td>3</td>\n",
       "      <td>1</td>\n",
       "      <td>22.0</td>\n",
       "      <td>1</td>\n",
       "      <td>0</td>\n",
       "      <td>7.2500</td>\n",
       "      <td>1.0</td>\n",
       "    </tr>\n",
       "    <tr>\n",
       "      <th>2</th>\n",
       "      <td>1</td>\n",
       "      <td>1</td>\n",
       "      <td>2</td>\n",
       "      <td>38.0</td>\n",
       "      <td>1</td>\n",
       "      <td>0</td>\n",
       "      <td>71.2833</td>\n",
       "      <td>2.0</td>\n",
       "    </tr>\n",
       "    <tr>\n",
       "      <th>3</th>\n",
       "      <td>1</td>\n",
       "      <td>3</td>\n",
       "      <td>2</td>\n",
       "      <td>26.0</td>\n",
       "      <td>0</td>\n",
       "      <td>0</td>\n",
       "      <td>7.9250</td>\n",
       "      <td>1.0</td>\n",
       "    </tr>\n",
       "    <tr>\n",
       "      <th>4</th>\n",
       "      <td>1</td>\n",
       "      <td>1</td>\n",
       "      <td>2</td>\n",
       "      <td>35.0</td>\n",
       "      <td>1</td>\n",
       "      <td>0</td>\n",
       "      <td>53.1000</td>\n",
       "      <td>1.0</td>\n",
       "    </tr>\n",
       "    <tr>\n",
       "      <th>5</th>\n",
       "      <td>0</td>\n",
       "      <td>3</td>\n",
       "      <td>1</td>\n",
       "      <td>35.0</td>\n",
       "      <td>0</td>\n",
       "      <td>0</td>\n",
       "      <td>8.0500</td>\n",
       "      <td>1.0</td>\n",
       "    </tr>\n",
       "  </tbody>\n",
       "</table>\n",
       "</div>"
      ],
      "text/plain": [
       "             survived  dclass  sex   age  siblings  parch     fare  embarked\n",
       "PassengerId                                                                 \n",
       "1                   0       3    1  22.0         1      0   7.2500       1.0\n",
       "2                   1       1    2  38.0         1      0  71.2833       2.0\n",
       "3                   1       3    2  26.0         0      0   7.9250       1.0\n",
       "4                   1       1    2  35.0         1      0  53.1000       1.0\n",
       "5                   0       3    1  35.0         0      0   8.0500       1.0"
      ]
     },
     "execution_count": 317,
     "metadata": {},
     "output_type": "execute_result"
    }
   ],
   "source": [
    "cleanSourceData.head()"
   ]
  },
  {
   "cell_type": "code",
   "execution_count": 318,
   "metadata": {},
   "outputs": [],
   "source": [
    "def preparePredictRow(row, predict_column):\n",
    "    return row.drop(predict_column).drop('survived').values"
   ]
  },
  {
   "cell_type": "code",
   "execution_count": 319,
   "metadata": {},
   "outputs": [],
   "source": [
    "filled_ages = []\n",
    "filled_fare = []\n",
    "filled_embarked = []\n",
    "for index, row in cleanSourceData.iterrows(): \n",
    "    try:\n",
    "        # Predict age if the record does not have it\n",
    "        if np.isnan(row.age):\n",
    "            record_prediction = preparePredictRow(row, 'age')\n",
    "            [age] = age_predictor_svr.predict([record_prediction])\n",
    "            filled_ages.append(age)\n",
    "        else:\n",
    "            filled_ages.append(row.age)\n",
    "\n",
    "        # Predict embarked if the record does not provide that info\n",
    "        if np.isnan(row.embarked):\n",
    "            record_prediction = preparePredictRow(row, 'embarked')\n",
    "            [embarked] = embarked_predictor_svc.predict([record_prediction])\n",
    "            filled_embarked.append(embarked)\n",
    "        else:\n",
    "            filled_embarked.append(row.embarked)\n",
    "\n",
    "        # Predict fare if the record does not provide that info\n",
    "        if np.isnan(row.fare):\n",
    "            record_prediction = preparePredictRow(row, 'fare')\n",
    "            [fare] = fare_predictor_svr.predict([record_prediction])\n",
    "            filled_fare.append(fare)\n",
    "        else:\n",
    "            filled_fare.append(row.fare)\n",
    "    except ValueError:\n",
    "        print 'An error ocurred while predicting index: ', index, ' and row is ', row"
   ]
  },
  {
   "cell_type": "code",
   "execution_count": 320,
   "metadata": {},
   "outputs": [],
   "source": [
    "completedTrainData = cleanSourceData.assign(fare = filled_fare, age = filled_ages, embarked = filled_embarked)"
   ]
  },
  {
   "cell_type": "code",
   "execution_count": null,
   "metadata": {},
   "outputs": [],
   "source": [
    "X = completedTrainData.drop(columns = ['survived']).values\n",
    "y = completedTrainData.survived.values\n",
    "\n",
    "survived_predictor = svm.SVC(gamma='scale', C = 1, kernel='poly')\n",
    "survived_predictor.fit(X, y)"
   ]
  },
  {
   "cell_type": "markdown",
   "metadata": {},
   "source": [
    "## Predicting over the test set"
   ]
  },
  {
   "cell_type": "code",
   "execution_count": null,
   "metadata": {},
   "outputs": [],
   "source": [
    "sourceTestData = pd.read_csv('../data/test.csv', index_col = 'PassengerId')\n",
    "\n",
    "# Removes data that we won't use for this model and renames columns for handy programming\n",
    "def cleanTestData(data):\n",
    "    # Creates a copy of the dataset\n",
    "    dataset = data.copy()\n",
    "    \n",
    "    # Renames the columns to be lowecase\n",
    "    dataset.columns = [\n",
    "        'dclass',\n",
    "        'name',\n",
    "        'sex',\n",
    "        'age',\n",
    "        'siblings',\n",
    "        'parch',\n",
    "        'ticket',\n",
    "        'fare',\n",
    "        'cabin',\n",
    "        'embarked'\n",
    "    ]\n",
    "    \n",
    "    dataset.replace({ 'embarked': { 'S': 1, 'C': 2, 'Q': 3 }}, inplace = True)\n",
    "    dataset.replace({ 'sex': { 'male': 1, 'female': 2 }}, inplace = True)\n",
    "    \n",
    "    return dataset.drop(columns = ['name', 'cabin', 'ticket'])\n",
    "\n",
    "testData = cleanTestData(sourceTestData)\n",
    "testData.head()"
   ]
  },
  {
   "cell_type": "code",
   "execution_count": null,
   "metadata": {},
   "outputs": [],
   "source": [
    "predicted_rows = []\n",
    "predicted_survived = []\n",
    "for index, row in testData.iterrows(): \n",
    "    person_sex = row.sex\n",
    "    person_siblings = row.siblings\n",
    "    person_parch = row.parch\n",
    "    person_class = row.dclass\n",
    "    \n",
    "    maybe_person_age = row.age    \n",
    "    maybe_person_fare = row.fare\n",
    "    maybe_person_embarked = row.embarked\n",
    "    \n",
    "    person_age = None\n",
    "    person_fare = None\n",
    "    person_embarked = None\n",
    "    \n",
    "    # Predict record age\n",
    "    if (np.isnan(maybe_person_age)):\n",
    "        submodel_person_features = [\n",
    "            person_class,\n",
    "            person_sex,\n",
    "            person_siblings,\n",
    "            person_parch,\n",
    "            maybe_person_fare,\n",
    "            maybe_person_embarked\n",
    "        ]\n",
    "        person_age = age_predictor_svr.predict([submodel_person_features])[0]\n",
    "    else:\n",
    "        person_age = maybe_person_age\n",
    "        \n",
    "    # Predict person fare\n",
    "    if (np.isnan(maybe_person_fare)):\n",
    "        submodel_person_features = [\n",
    "            person_class,\n",
    "            person_sex,\n",
    "            maybe_person_age,\n",
    "            person_siblings,\n",
    "            person_parch,\n",
    "            maybe_person_embarked\n",
    "        ]\n",
    "        person_fare = fare_predictor_svr.predict([submodel_person_features])[0]\n",
    "    else:\n",
    "        person_fare = maybe_person_fare\n",
    "        \n",
    "    # Predict person embarked\n",
    "    if (np.isnan(maybe_person_embarked)):\n",
    "        submodel_person_features = [\n",
    "            person_class,\n",
    "            person_sex,\n",
    "            maybe_person_age,\n",
    "            person_siblings,\n",
    "            person_parch,\n",
    "            maybe_person_fare\n",
    "        ]\n",
    "        person_embarked = embarked_predictor_svc.predict([submodel_person_features])[0]\n",
    "    else:\n",
    "        person_embarked = maybe_person_embarked\n",
    "        \n",
    "    person_features = [\n",
    "        person_class,\n",
    "        person_sex,\n",
    "        person_age,\n",
    "        person_siblings,\n",
    "        person_parch,\n",
    "        person_fare,\n",
    "        person_embarked\n",
    "    ]\n",
    "    \n",
    "    [person_survived] = survived_predictor.predict([person_features])\n",
    "    \n",
    "    person_data_filled = {\n",
    "        'survived': person_survived,\n",
    "        'class': person_class,\n",
    "        'sex': person_sex,\n",
    "        'age': person_age,\n",
    "        'siblings': person_siblings,\n",
    "        'parch': person_parch,\n",
    "        'fare': person_fare,\n",
    "        'embarked': person_embarked\n",
    "    }\n",
    "    \n",
    "    predicted_survived.append(person_survived)\n",
    "    predicted_rows.append(person_data_filled)\n",
    "\n",
    "predictedDataset = pd.DataFrame(predicted_rows)\n",
    "predictedDataset.head()\n",
    "predictedDatasetWithIndexes = testData.assign(survived = predicted_survived)"
   ]
  },
  {
   "cell_type": "markdown",
   "metadata": {},
   "source": [
    "## Looking at the predicted data"
   ]
  },
  {
   "cell_type": "code",
   "execution_count": null,
   "metadata": {},
   "outputs": [],
   "source": [
    "import seaborn as sns\n",
    "import matplotlib.pyplot as plt\n",
    "%matplotlib inline"
   ]
  },
  {
   "cell_type": "code",
   "execution_count": null,
   "metadata": {},
   "outputs": [],
   "source": [
    "_ = sns.swarmplot(\n",
    "    x ='sex',\n",
    "    y = 'age',\n",
    "    hue = 'survived',\n",
    "    data = predictedDatasetWithIndexes,\n",
    "    s = 4\n",
    ")\n",
    "\n",
    "_ = plt.title('')\n",
    "_ = plt.xlabel('sex')\n",
    "_ = plt.ylabel('age')\n",
    "\n",
    "\n",
    "plt.show()"
   ]
  },
  {
   "cell_type": "code",
   "execution_count": null,
   "metadata": {},
   "outputs": [],
   "source": [
    "predictedDatasetWithIndexes\\\n",
    "    .drop(columns = ['dclass', 'sex', 'age', 'siblings', 'parch', 'fare', 'embarked'])\\\n",
    "    .to_csv('../results/notebook-second-svm-balanced-polynomial.csv')"
   ]
  },
  {
   "cell_type": "code",
   "execution_count": null,
   "metadata": {},
   "outputs": [],
   "source": []
  }
 ],
 "metadata": {
  "kernelspec": {
   "display_name": "Python 2",
   "language": "python",
   "name": "python2"
  },
  "language_info": {
   "codemirror_mode": {
    "name": "ipython",
    "version": 2
   },
   "file_extension": ".py",
   "mimetype": "text/x-python",
   "name": "python",
   "nbconvert_exporter": "python",
   "pygments_lexer": "ipython2",
   "version": "2.7.15rc1"
  }
 },
 "nbformat": 4,
 "nbformat_minor": 2
}
